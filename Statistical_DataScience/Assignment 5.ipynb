{
 "cells": [
  {
   "cell_type": "markdown",
   "id": "93997274",
   "metadata": {},
   "source": [
    "<h1>Sai Krishna\n",
    "<h1>PH22MSCST11003\n"
   ]
  },
  {
   "cell_type": "markdown",
   "id": "df4924e8",
   "metadata": {},
   "source": [
    "<h1>Question 1\n",
    "    <h4>Download the asteroid dataset from http://astrostatistics.psu.edu/\n",
    "datasets/asteroid_dens.dat. Apply the Shapiro-Wilk test to both the\n",
    "asteroid density values and the natural logarithm of the density values.\n",
    "From the p values, which of these is closer to a Gaussian distribution?<br>\n",
    "Verify this by plotting histograms of both density and its logarithm and\n",
    "overlaying the best-fit normal distribution (Look up stats.norm.fit) "
   ]
  },
  {
   "cell_type": "code",
   "execution_count": 136,
   "id": "f2d3c235",
   "metadata": {},
   "outputs": [],
   "source": [
    "d= {\n",
    "    \"Ceres\": [2.12, 0.04],\n",
    "    \"Pallas\": [2.71, 0.11],\n",
    "    \"Vesta\": [3.44, 0.12],\n",
    "    \"Hygiea\": [2.76, 1.20],\n",
    "    \"Parthenope\": [2.72, 0.12],\n",
    "    \"Eunomia\": [0.96, 0.30],\n",
    "    \"Psyche\": [2.00, 0.60],\n",
    "    \"Massalia\": [3.26, 0.60],\n",
    "    \"Kalliope\": [2.50, 0.30],\n",
    "    \"Eugenia\": [1.20, 0.40],\n",
    "    \"Sylvia\": [1.62, 0.30],\n",
    "    \"Antiope\": [1.30],\n",
    "    \"Hermione\": [1.96, 0.34],\n",
    "    \"Ida\": [2.60, 0.50],\n",
    "    \"Mathilde\": [1.30, 0.20],\n",
    "    \"Eros\": [2.67, 0.03],\n",
    "    \"Interamnia\": [4.40, 2.10],\n",
    "    \"Pulcova\": [1.80, 0.80],\n",
    "    \"Hispania\": [4.90, 3.90],\n",
    "    \"KW4\": [2.39, 0.90],\n",
    "    \"DP107\": [1.62, 1.05],\n",
    "    \"UG11\": [1.47, 0.95],\n",
    "    \"Frostia\": [0.89, 0.13],\n",
    "    \"Tama\": [2.52, 0.30],\n",
    "    \"Berna\": [1.21, 0.25],\n",
    "    \"Debussy\": [0.90, 0.10],\n",
    "    \"Patroclus\": [0.80, 0.15]\n",
    "}\n",
    "\n"
   ]
  },
  {
   "cell_type": "code",
   "execution_count": 137,
   "id": "af18fd85",
   "metadata": {},
   "outputs": [
    {
     "name": "stdout",
     "output_type": "stream",
     "text": [
      "p value of density : 0.051220282912254333\n",
      "p value of density : 0.5660613775253296\n"
     ]
    },
    {
     "data": {
      "text/plain": [
       "<matplotlib.legend.Legend at 0x7f2fd34affd0>"
      ]
     },
     "execution_count": 137,
     "metadata": {},
     "output_type": "execute_result"
    },
    {
     "data": {
      "image/png": "[encoded data removed]",
      "text/plain": [
       "<Figure size 432x288 with 2 Axes>"
      ]
     },
     "metadata": {
      "needs_background": "light"
     },
     "output_type": "display_data"
    }
   ],
   "source": [
    "den_val = [value[0] for value in d.values()]\n",
    "print(\"p value of density :\", stats.shapiro(den_val)[1])\n",
    "print(\"p value of density :\", stats.shapiro(np.log(den_val)) [1])\n",
    "plt.subplot(1,2,1)\n",
    "plt.hist(den_val,bins=10,density=True,alpha=0.8, color='blue',edgecolor='black')\n",
    "xmin,xmax=plt.xlim()\n",
    "xden=np.linspace(xmin,xmax,100)\n",
    "p_den=stats.norm.pdf(xden,np.mean(den_val),np.std(den_val))\n",
    "plt.plot(xden,p_den,'r--',linewidth=1,label='PDF')\n",
    "plt.title('Density values')\n",
    "plt.xlabel('density')\n",
    "plt.ylabel('prob. Density')\n",
    "plt.legend()\n",
    "\n",
    "plt.subplot(1,2,2)\n",
    "plt.hist(np.log(den_val),bins=10,density=True,alpha=0.8, color='blue',edgecolor='black')\n",
    "xmin,xmax=plt.xlim()\n",
    "xden=np.linspace(xmin,xmax,100)\n",
    "m,std=stats.norm.fit(np.log(den_val))\n",
    "p_den1=stats.norm.pdf(xden,m,std)\n",
    "plt.plot(xden,p_den1,'r--',linewidth=1,label='PDF')\n",
    "plt.title('log Density values')\n",
    "plt.xlabel('density')\n",
    "plt.ylabel('prob. Density')\n",
    "\n",
    "plt.legend()"
   ]
  },
  {
   "cell_type": "markdown",
   "id": "bf5cede6",
   "metadata": {},
   "source": [
    "<h1>Question 2\n",
    "    <h4>Download the Hipparcos star catalog from http://iith.ac.in/~shantanud/\n",
    "HIP_star.dat. Detailed explanation of the columns in this dataset can be\n",
    "found in http://astrostatistics.psu.edu/datasets/HIP_star.html under “Dataset”. Calculate using two-sample t-test whether the color (B-\n",
    "V) of the Hyades stars differs from the non-Hyades ones. <br>The Hyades\n",
    "\n",
    "stars have Right Ascension between 50◦ and 100◦, declinations between\n",
    "0 and 25◦, proper motion in RA between 90 and 130 mas/year, proper\n",
    "motion in DEC between -60 and -10 mas/year. Any other star which does\n",
    "not satisfy any of the above conditions is considered a non-Hyades star."
   ]
  },
  {
   "cell_type": "code",
   "execution_count": 138,
   "id": "e7cdd89c",
   "metadata": {},
   "outputs": [],
   "source": [
    "import pandas as pd\n",
    "from scipy import stats\n",
    "import requests\n",
    "from io import StringIO\n",
    "da=requests.get(\"https://people.iith.ac.in/shantanud/HIP_star.dat\")\n",
    "dat=pd.read_csv(StringIO(da.text), delim_whitespace=True)"
   ]
  },
  {
   "cell_type": "code",
   "execution_count": 139,
   "id": "9af647d9",
   "metadata": {},
   "outputs": [],
   "source": [
    "xx=dat"
   ]
  },
  {
   "cell_type": "code",
   "execution_count": 140,
   "id": "c9eef2a7",
   "metadata": {},
   "outputs": [],
   "source": [
    "import numpy as np\n",
    "\n",
    "\n",
    "x = np.genfromtxt(\"https://iith.ac.in/~shantanud/HIP_star.dat\", skip_header=1)\n",
    "\n",
    "\n",
    "x = np.column_stack([x, np.ones(len(x))])\n",
    "\n",
    "mask_hyades = (x[:, 2] > 50) & (x[:, 2] < 100) & (x[:, 3] > 0) & (x[:, 3] < 25) & \\\n",
    "              (x[:, 5] > 90) & (x[:, 5] < 130) & (x[:, 6] > -60) & (x[:, 6] < -10) & \\\n",
    "              (x[:, 7] < 5) & (x[:, 8] < 0.2)\n",
    "\n",
    "# Extract Hyades and non-Hyades stars\n",
    "hyades = x[mask_hyades]\n",
    "non_hyades = x[~mask_hyades]\n",
    "\n",
    "\n",
    "data1 = hyades[:, -2]\n",
    "data2 = non_hyades[:, -2]\n",
    "\n",
    "\n",
    "data2 = data2[~np.isnan(data2)]\n"
   ]
  },
  {
   "cell_type": "code",
   "execution_count": 141,
   "id": "554c11b9",
   "metadata": {},
   "outputs": [
    {
     "name": "stdout",
     "output_type": "stream",
     "text": [
      "variance of hyades: 0.001848\n",
      "variance of non_hyades: 0.10768933532979119\n",
      "t-statistic:  -30.467874175004038\n",
      "p-value of the 2 sample t-test :  6.291256969608912e-08\n"
     ]
    }
   ],
   "source": [
    "print(\"variance of hyades:\",np.var(data1))\n",
    "print(\"variance of non_hyades:\",np.var(data2))\n",
    "\n",
    "print(\"t-statistic: \",stats.ttest_ind(data1,data2,equal_var=False)[0])\n",
    "print(\"p-value of the 2 sample t-test : \",stats.ttest_ind(data1,data2,equal_var=False)[1])\n"
   ]
  },
  {
   "cell_type": "markdown",
   "id": "0cc35008",
   "metadata": {},
   "source": [
    "<h6>The p-value is significantly less than 0.05, indicating that we reject the null hypothesis, which suggests that the colors of stars in the Hyades and non-Hyades categories are identical. Therefore, the two star categories exhibit different colors."
   ]
  },
  {
   "cell_type": "markdown",
   "id": "5a9754b0",
   "metadata": {},
   "source": [
    "<h1>Question 3<h4>The T90 distribution for Beppo-Sax T90 data can be found at http:\n",
    "//www.iith.ac.in/~shantanud/beppoSax.txt. Apply GMM to log10 of\n",
    "T90 data and find the optimum number of components using AIC and\n",
    "BIC by plotting BIC as a function of number of componts \n",
    "(Hint: Look at the source code for astroML figure 6.6)"
   ]
  },
  {
   "cell_type": "code",
   "execution_count": 142,
   "id": "6a3e3350",
   "metadata": {},
   "outputs": [],
   "source": [
    "\n",
    "from __future__ import print_function\n",
    "\n",
    "import numpy as np\n",
    "from matplotlib import pyplot as plt\n",
    "\n",
    "from sklearn.mixture import GaussianMixture\n",
    "\n",
    "from astroML.datasets import fetch_sdss_sspp\n",
    "from astroML.utils.decorators import pickle_results\n",
    "from astroML.plotting.tools import draw_ellipse\n"
   ]
  },
  {
   "cell_type": "code",
   "execution_count": 143,
   "id": "443dbeaa",
   "metadata": {},
   "outputs": [
    {
     "name": "stdout",
     "output_type": "stream",
     "text": [
      "<class 'numpy.ndarray'>\n"
     ]
    }
   ],
   "source": [
    "X = np.loadtxt(\"beppoSax.txt\")\n",
    "X=np.log10(X)\n",
    "print(type(X))\n",
    "N = np.arange(1, 14)\n"
   ]
  },
  {
   "cell_type": "code",
   "execution_count": 145,
   "id": "8fa1c22a",
   "metadata": {},
   "outputs": [
    {
     "name": "stdout",
     "output_type": "stream",
     "text": [
      "1\n",
      "2\n",
      "3\n",
      "4\n",
      "5\n",
      "6\n",
      "7\n",
      "8\n",
      "9\n",
      "10\n",
      "11\n",
      "12\n",
      "13\n",
      "best fit converged: True\n",
      "BIC: n_components = 2\n",
      "AIC: n_components = 2\n"
     ]
    },
    {
     "data": {
      "image/png": "[encoded data removed]",
      "text/plain": [
       "<Figure size 432x288 with 1 Axes>"
      ]
     },
     "metadata": {
      "needs_background": "light"
     },
     "output_type": "display_data"
    }
   ],
   "source": [
    "def compute_GaussianMixture(N, X, covariance_type='full', max_iter=1000):\n",
    "    models = [None for n in N]\n",
    "    for i in range(len(N)):\n",
    "        print(N[i])\n",
    "        models[i] = GaussianMixture(n_components=N[i], max_iter=max_iter,\n",
    "                                    covariance_type=covariance_type)\n",
    "        # Convert X to 2D array with a single feature column\n",
    "        X_2d = X[:, np.newaxis]\n",
    "        models[i].fit(X_2d)  # Fit the model\n",
    "    return models\n",
    "\n",
    "# Modify the call to compute_GaussianMixture to include the data X\n",
    "models = compute_GaussianMixture(N, X)\n",
    "\n",
    "# Calculate AIC and BIC\n",
    "AIC = [m.aic(X[:, np.newaxis]) for m in models]  # Convert X to 2D array for AIC calculation\n",
    "BIC = [m.bic(X[:, np.newaxis]) for m in models]  # Convert X to 2D array for BIC calculation\n",
    "\n",
    "# Find the index of the model with the lowest BIC\n",
    "i_best = np.argmin(BIC)\n",
    "i_best2 = np.argmin(AIC)\n",
    "gmm_best = models[i_best]\n",
    "print(\"best fit converged:\", gmm_best.converged_)\n",
    "print(\"BIC: n_components = %i\" % N[i_best])\n",
    "print(\"AIC: n_components = %i\" % N[i_best2])\n",
    "\n",
    "\n",
    "plt.plot(N, BIC, label='BIC(no. of Components)', color='blue', linestyle='-')\n",
    "plt.plot(N, AIC, label='AIC(no. of Components)', color='Red', linestyle='-')\n",
    "plt.xlabel('no of components')\n",
    "plt.ylabel('BIC / AIC')\n",
    "plt.title('plotting BIC/AIC as a function of number of componts')\n",
    "plt.legend()\n",
    "plt.grid(True)\n",
    "plt.show()"
   ]
  },
  {
   "cell_type": "code",
   "execution_count": null,
   "id": "d3b40501",
   "metadata": {},
   "outputs": [],
   "source": []
  },
  {
   "cell_type": "code",
   "execution_count": null,
   "id": "39c8e5b6",
   "metadata": {},
   "outputs": [],
   "source": []
  }
 ],
 "metadata": {
  "kernelspec": {
   "display_name": "Python 3 (ipykernel)",
   "language": "python",
   "name": "python3"
  },
  "language_info": {
   "codemirror_mode": {
    "name": "ipython",
    "version": 3
   },
   "file_extension": ".py",
   "mimetype": "text/x-python",
   "name": "python",
   "nbconvert_exporter": "python",
   "pygments_lexer": "ipython3",
   "version": "3.11.5"
  }
 },
 "nbformat": 4,
 "nbformat_minor": 5
}
